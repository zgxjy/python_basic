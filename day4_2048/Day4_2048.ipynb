{
 "cells": [
  {
   "cell_type": "code",
   "execution_count": 2,
   "metadata": {},
   "outputs": [],
   "source": [
    "import pyglet"
   ]
  },
  {
   "cell_type": "code",
   "execution_count": 3,
   "metadata": {},
   "outputs": [],
   "source": [
    "WIN_WIDTH = 530\n",
    "WIN_HEIGHT =720"
   ]
  },
  {
   "cell_type": "code",
   "execution_count": 4,
   "metadata": {},
   "outputs": [],
   "source": [
    "# 棋盘起始位置左下角的x，y\n",
    "STARTX = 15\n",
    "STARTY = 110\n",
    "\n",
    "# 每行的块数（默认是正方形）\n",
    "WINDOW_BLOCK_NUM = 4\n",
    "\n",
    "# 总宽度和每块的宽度\n",
    "BOARD_WIDTH = (WIN_WIDTH - 2*STARTX)\n",
    "BLOCK_WIDTH = BOARD_WIDTH/WINDOW_BLOCK_NUM\n",
    "\n",
    "# 颜色配色\n",
    "LABEL_COLOR = (119,110,101,255)\n",
    "BG_COLOR = (250,248,239,255)"
   ]
  },
  {
   "cell_type": "code",
   "execution_count": 5,
   "metadata": {},
   "outputs": [],
   "source": [
    "class Window(pyglet.window.Window):\n",
    "    def __init__(self,*args,**kwargs):\n",
    "        super().__init__(*args,**kwargs)\n",
    "        self.game_init()\n",
    "    def game_init(self):\n",
    "        self.main_batch = pyglet.graphics.Batch()#控制所有的文字，一同打印出来\n",
    "        self.data = [[0,0,0,0],[0,0,0,0],[0,0,0,0],[0,0,0,0]]\n",
    "        \n",
    "        #背景spirite\n",
    "        background_img = pyglet.image.SolidColorImagePattern(color=BG_COLOR)\n",
    "        self.background = pyglet.sprite.Sprite(\n",
    "                background_img.create_image(WIN_WIDTH, WIN_HEIGHT), \n",
    "                0, 0)\n",
    "        #title\n",
    "        self.title_label = pyglet.text.Label(text='2048', bold = True,\n",
    "                color = LABEL_COLOR, x = STARTX, y = BOARD_WIDTH+STARTY+30, \n",
    "                font_size=36, batch= self.main_batch)\n",
    "       \n",
    "        # Score\n",
    "        self.score = 0\n",
    "        self.score_label = pyglet.text.Label(text=\"Score = %d\"%(self.score), bold=True, \n",
    "                color = LABEL_COLOR, x=200, y=BOARD_WIDTH+STARTY+30,\n",
    "                font_size=36, batch= self.main_batch)\n",
    "        # Help\n",
    "        self.help_label = pyglet.text.Label(text=\"please use up, down, ->, <-, to play!\", bold=True, \n",
    "                color = LABEL_COLOR, x=STARTX, y=STARTY - 30,\n",
    "                font_size=18, batch= self.main_batch)\n",
    "    \n",
    "    def on_draw(self):\n",
    "        self.clear()\n",
    "        self.score_label.text = \"Score = %d\"%(self.score)\n",
    "        self.background.draw()\n",
    "        self.main_batch.draw()"
   ]
  },
  {
   "cell_type": "code",
   "execution_count": 6,
   "metadata": {},
   "outputs": [],
   "source": [
    "# 创建窗口\n",
    "win = Window(WIN_WIDTH, WIN_HEIGHT)\n",
    "\n",
    "# 设置图标\n",
    "icon = pyglet.image.load('2048.ico')\n",
    "win.set_icon(icon)"
   ]
  },
  {
   "cell_type": "code",
   "execution_count": null,
   "metadata": {},
   "outputs": [],
   "source": [
    "pygle"
   ]
  }
 ],
 "metadata": {
  "kernelspec": {
   "display_name": "Python 3",
   "language": "python",
   "name": "python3"
  },
  "language_info": {
   "codemirror_mode": {
    "name": "ipython",
    "version": 3
   },
   "file_extension": ".py",
   "mimetype": "text/x-python",
   "name": "python",
   "nbconvert_exporter": "python",
   "pygments_lexer": "ipython3",
   "version": "3.6.3"
  }
 },
 "nbformat": 4,
 "nbformat_minor": 2
}
