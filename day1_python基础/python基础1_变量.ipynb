{
 "cells": [
  {
   "cell_type": "markdown",
   "metadata": {},
   "source": [
    "# 学习方法\n",
    "* 多尝试\n",
    "* 别打算全记牢，过一下知道有这些方法\n",
    "* 熟练使用百度\n",
    "* 学会解决bug"
   ]
  },
  {
   "cell_type": "markdown",
   "metadata": {},
   "source": [
    "# 本节课目录：\n",
    "1. 数字类型的常规操作：math,random,numpy\n",
    "1. 字符串基本操作\n",
    "1. 字符串模块：re基础用法\n",
    "1. 时间日期操作\n",
    "1. 列表和元组\n",
    "1. 字典\n",
    "1. 文件类型"
   ]
  },
  {
   "cell_type": "markdown",
   "metadata": {},
   "source": [
    "## 1. 数字类型的常规操作：math,random,numpy"
   ]
  },
  {
   "cell_type": "markdown",
   "metadata": {},
   "source": [
    "* 基本数学操作"
   ]
  },
  {
   "cell_type": "code",
   "execution_count": 8,
   "metadata": {},
   "outputs": [
    {
     "name": "stdout",
     "output_type": "stream",
     "text": [
      "720\n"
     ]
    }
   ],
   "source": [
    "import math\n",
    "v1 = math.pi\n",
    "v2 = math.sqrt(80)\n",
    "v3 = math.log10(2**1000)\n",
    "v4 = math.pow(2,10)\n",
    "v5 = math.factorial(6)\n",
    "#请在下方输出上面变量\n",
    "print(v5)"
   ]
  },
  {
   "cell_type": "markdown",
   "metadata": {},
   "source": [
    "* 随机数的产生"
   ]
  },
  {
   "cell_type": "code",
   "execution_count": 20,
   "metadata": {},
   "outputs": [
    {
     "name": "stdout",
     "output_type": "stream",
     "text": [
      "1.0\n"
     ]
    }
   ],
   "source": [
    "import random\n",
    "v6 = random.random()#01分布\n",
    "v7 = random.choice([1,2,3,4])#随机选择\n",
    "v8 = random.randint(0,10)#随机整数\n",
    "v9 = random.uniform(1,10)#均匀分布\n",
    "v10 = random.gauss(0,1)#高斯分布\n",
    "#请在下方输出上面变量\n",
    "print(v10)"
   ]
  },
  {
   "cell_type": "markdown",
   "metadata": {},
   "source": [
    " **小例子：使用随机产生的高斯分布数据画图**   </br>\n",
    "\n",
    "numpy库使用手册：[numpy:tutorial](https://docs.scipy.org/doc/numpy/user/quickstart.html)   </br>  \n",
    "\n",
    "matplotlib库画图使用手册：[matplotlib.pyplot:tutorial](https://matplotlib.org/users/pyplot_tutorial.html)</br>  \n",
    "\n",
    "参考帮助：[matplotlib 绘图可视化知识点整理](http://python.jobbole.com/85106/)"
   ]
  },
  {
   "cell_type": "code",
   "execution_count": 3,
   "metadata": {},
   "outputs": [
    {
     "data": {
      "image/png": "[encoded data removed]",
      "text/plain": [
       "<Figure size 432x288 with 1 Axes>"
      ]
     },
     "metadata": {},
     "output_type": "display_data"
    }
   ],
   "source": [
    "import numpy as np\n",
    "from matplotlib import pyplot as plt\n",
    "%matplotlib inline\n",
    "#这句话是让画的图在行中显示\n",
    "\n",
    "mu, sigma = 1, 2 # mean and standard deviation\n",
    "s = np.random.normal(mu, sigma, 10000)#numpy库的模块中的随机类型继承random模块\n",
    "\n",
    "# the histogram of the data\n",
    "n, bins, patches = plt.hist(s, 100, density=True)\n",
    "\n",
    "plt.xlabel('Smarts')\n",
    "plt.ylabel('Probability')\n",
    "plt.title('Histogram of IQ')\n",
    "plt.text(-2, .2, r'$\\mu=1,\\ \\sigma=2$')\n",
    "plt.grid(True)\n",
    "\n",
    "plt.show()"
   ]
  },
  {
   "cell_type": "markdown",
   "metadata": {},
   "source": [
    "## 2. 字符串基本操作"
   ]
  },
  {
   "cell_type": "code",
   "execution_count": 31,
   "metadata": {},
   "outputs": [
    {
     "name": "stdout",
     "output_type": "stream",
     "text": [
      "python2 python3 perl ruby lua java javascript php4 php5 \n"
     ]
    }
   ],
   "source": [
    "text = 'c++ python2 python3 perl ruby lua java javascript php4 php5 c'\n",
    "\n",
    "#index, slice\n",
    "s1 = text[0]\n",
    "s2 = text[0:3]\n",
    "s3 = text[-1]\n",
    "s4 = text[4:-1]\n",
    "s5 = text[0:10:2]\n",
    "#请在下方输出上面变量\n",
    "print(s5)"
   ]
  },
  {
   "cell_type": "code",
   "execution_count": 36,
   "metadata": {},
   "outputs": [
    {
     "name": "stdout",
     "output_type": "stream",
     "text": [
      "c++￥￥￥python2￥￥￥python3￥￥￥perl￥￥￥ruby￥￥￥lua￥￥￥java￥￥￥javascript￥￥￥php4￥￥￥php5￥￥￥c\n"
     ]
    }
   ],
   "source": [
    "# split, join\n",
    "a = text.split(' ')\n",
    "b = '￥￥￥'.join(a)\n",
    "print(b)"
   ]
  },
  {
   "cell_type": "code",
   "execution_count": 33,
   "metadata": {},
   "outputs": [
    {
     "name": "stdout",
     "output_type": "stream",
     "text": [
      "c++ c++ c++ c++ c++ \n"
     ]
    }
   ],
   "source": [
    "# + , *\n",
    "s6 = text[0:4]+text[-2:len(text)]\n",
    "s7 = text[0:4]*5\n",
    "print(s7)"
   ]
  },
  {
   "cell_type": "code",
   "execution_count": 39,
   "metadata": {},
   "outputs": [
    {
     "name": "stdout",
     "output_type": "stream",
     "text": [
      "1:  C++ PYTHON2 PYTHON3 PERL RUBY LUA JAVA JAVASCRIPT PHP4 PHP5 C\n",
      "2:  4\n",
      "3:  c++ fortran2 fortran3 perl ruby lua java javascript php4 php5 c\n",
      "4:  we like python\n"
     ]
    }
   ],
   "source": [
    "#other func\n",
    "print('1: ',text.upper())\n",
    "print('2: ',text.find('py'))#返回第一个找到的位置\n",
    "print('3: ',text.replace('python','fortran'))\n",
    "print('4: ',\"%s like %s\" %('we','python'))"
   ]
  },
  {
   "cell_type": "code",
   "execution_count": 45,
   "metadata": {},
   "outputs": [
    {
     "name": "stdout",
     "output_type": "stream",
     "text": [
      "text2.strip():  c++\n",
      "text2.strip('c'):  ++     \n"
     ]
    }
   ],
   "source": [
    "#strip:Python strip() 方法用于移除字符串头尾指定的字符（默认为空格）\n",
    "text2 = 'c++     '\n",
    "print('text2.strip(): ',text2.strip())\n",
    "print('text2.strip(\\'c\\'): ',text2.strip('c'))"
   ]
  },
  {
   "cell_type": "markdown",
   "metadata": {},
   "source": [
    "## 3.字符串模块：re基础用法</br>\n",
    "\n",
    "[re基础用法](http://www.runoob.com/python/python-reg-expressions.html)\n"
   ]
  },
  {
   "cell_type": "code",
   "execution_count": 54,
   "metadata": {},
   "outputs": [
    {
     "name": "stdout",
     "output_type": "stream",
     "text": [
      "None\n",
      "<_sre.SRE_Match object; span=(34, 38), match='java'>\n",
      "<_sre.SRE_Match object; span=(0, 3), match='c++'>\n",
      "['python', 'python']\n",
      "['c++ python2 python3 ', ' ruby lua java javascript php4 php5 c']\n",
      "c++ python2 python3 perl fortran lua java javascript php4 php5 c\n"
     ]
    }
   ],
   "source": [
    "import re\n",
    "text = 'c++ python2 python3 perl ruby lua java javascript php4 php5 c'\n",
    "#match,search,findall,split,sub\n",
    "print(re.match('java',text))\n",
    "print(re.search('java',text))\n",
    "\n",
    "#print(re.match(r'c++',text))会报错，是因为+号是re模块中的通配符，需要使用\\将其变为普通\n",
    "print(re.match('c\\+\\+',text))\n",
    "\n",
    "print (re.findall('python',text))\n",
    "print (re.split('perl',text))\n",
    "print (re.sub('ruby','fortran',text))"
   ]
  },
  {
   "cell_type": "code",
   "execution_count": 56,
   "metadata": {},
   "outputs": [
    {
     "name": "stdout",
     "output_type": "stream",
     "text": [
      "['c++']\n",
      "['c', 'c', 'c']\n",
      "['c+', 'cr']\n",
      "['c++']\n",
      "['c']\n"
     ]
    }
   ],
   "source": [
    "# ^   start\n",
    "# $   end\n",
    "# .   except \\n\n",
    "print (re.findall('^c..',text))\n",
    "print (re.findall('c+',text))#+统配0个及以上\n",
    "print (re.findall('c.',text))#.统配1个\n",
    "print (re.findall('c\\++',text))\n",
    "print (re.findall('c$',text))"
   ]
  },
  {
   "cell_type": "code",
   "execution_count": 61,
   "metadata": {},
   "outputs": [
    {
     "name": "stdout",
     "output_type": "stream",
     "text": [
      "['p', 'p', 'p', 'p', 'p', 'p', 'p', 'p']\n",
      "['python', 'python', 'perl', 'pt', 'php', 'php']\n",
      "['python', 'python', 'perl', 'pt', 'php', 'php']\n",
      "['py', 'py', 'pe', 'pt', 'ph', 'p', 'ph', 'p']\n",
      "['python2', 'python3', 'perl', 'pt', 'php4', 'php5']\n",
      "['c', 'cript', 'c']\n",
      "['c++ ', 'c', 'c']\n"
     ]
    }
   ],
   "source": [
    "# +   1-inf\n",
    "# *   0-inf\n",
    "# ?   0-1, \n",
    "# []  or\n",
    "# {}  repeat\n",
    "# [^] not\n",
    "print (re.findall('p+',text))\n",
    "print (re.findall('p[a-zA-Z]+',text))  #{1,}\n",
    "print (re.findall('p[a-zA-Z]*',text))  #{0,}\n",
    "print (re.findall('p[a-zA-Z]?',text))  #{0,1}\n",
    "print (re.findall('p[a-zA-Z0-9]{0,}',text))  #{n，}匹配 n 个前面表达式。\n",
    "\n",
    "print ( re.findall('c[a-zA-Z]*',text))  #{,inf}\n",
    "print (re.findall('c[^a-zA-Z]*',text))  #{,inf}"
   ]
  },
  {
   "cell_type": "code",
   "execution_count": 63,
   "metadata": {},
   "outputs": [
    {
     "name": "stdout",
     "output_type": "stream",
     "text": [
      "['python', 'python', 'perl', 'java', 'javascript', 'php', 'php']\n",
      "['python', 'python', 'perl', 'java', 'javascript', 'php', 'php']\n"
     ]
    }
   ],
   "source": [
    "# |   or\n",
    "print (re.findall('[pj][a-zA-Z]+',text))  #{,inf}\n",
    "# |重写上面的pattern\n",
    "print (re.findall('p[^0-9 ]+|j[a-zA-Z]+',text))"
   ]
  },
  {
   "cell_type": "code",
   "execution_count": 73,
   "metadata": {},
   "outputs": [
    {
     "name": "stdout",
     "output_type": "stream",
     "text": [
      "['python2', 'python3', 'perl', 'pt', 'php4', 'php5']\n",
      "['python2', 'python3', 'php4', 'php5']\n",
      "['python2', 'python3', 'php4', 'php5']\n",
      "['pyth', 'pyth', 'perl', 'pt', 'php4', 'php5']\n",
      "['pyth', 'pyth', 'perl', 'php4', 'php5']\n"
     ]
    }
   ],
   "source": [
    "# \\w  [a-zA-Z0-9_], \\W\n",
    "# \\d  [0-9], \\D\n",
    "# \\s  [ \\t\\n\\r\\f\\v], \\S\n",
    "print (re.findall('p\\w+',text))\n",
    "print (re.findall('p\\w+\\d',text))\n",
    "print (re.findall('p\\w+[0-9]',text))\n",
    "print (re.findall('p\\w{,3}',text))\n",
    "print (re.findall('p\\w{2,3}',text))"
   ]
  },
  {
   "cell_type": "code",
   "execution_count": 74,
   "metadata": {},
   "outputs": [
    {
     "name": "stdout",
     "output_type": "stream",
     "text": [
      "python 2\n",
      "{'name': 'python', 'version': '2'}\n"
     ]
    }
   ],
   "source": [
    "# ()  group\n",
    "# (?P<name>pattern)\n",
    "a=re.search(r'(?P<name>p[a-zA-Z]+)(?P<version>[0-9])','python2')\n",
    "print (a.group('name'), a.group('version'))\n",
    "print (a.groupdict())"
   ]
  },
  {
   "cell_type": "code",
   "execution_count": 76,
   "metadata": {},
   "outputs": [
    {
     "name": "stdout",
     "output_type": "stream",
     "text": [
      "{'name': 'python', 'version': '2'}\n",
      "{'name': 'python', 'version': '3'}\n"
     ]
    }
   ],
   "source": [
    "# re.compile:可以将匹配模式复用\n",
    "pattern = re.compile('(?P<name>p[a-zA-Z]+)(?P<version>[0-9])')\n",
    "results = pattern.search('python2')\n",
    "print (results.groupdict())\n",
    "results = pattern.search('python3')\n",
    "print (results.groupdict())"
   ]
  },
  {
   "cell_type": "markdown",
   "metadata": {},
   "source": [
    "## 4. 时间日期操作"
   ]
  },
  {
   "cell_type": "code",
   "execution_count": 77,
   "metadata": {},
   "outputs": [],
   "source": [
    "import datetime"
   ]
  },
  {
   "cell_type": "code",
   "execution_count": 80,
   "metadata": {},
   "outputs": [
    {
     "name": "stdout",
     "output_type": "stream",
     "text": [
      "2018-05-10\n",
      "05/16/2018\n",
      "2018-05-13T09:35:09.178660\n",
      "2018-05-13 06:35:09.178660\n"
     ]
    }
   ],
   "source": [
    "# 1. 从现在开始3天后和3天前是哪一天\n",
    "a=datetime.date.today()\n",
    "b=datetime.datetime.now()\n",
    "d1=datetime.timedelta(days=3)\n",
    "d2=datetime.timedelta(hours=3)\n",
    "\n",
    "print((a-d1).isoformat())\n",
    "print((a+d1).strftime('%m/%d/%Y'))\n",
    "print(b.isoformat())\n",
    "print((b-d2))"
   ]
  },
  {
   "cell_type": "code",
   "execution_count": 84,
   "metadata": {},
   "outputs": [
    {
     "name": "stdout",
     "output_type": "stream",
     "text": [
      "True\n",
      "-19 days, 9:35:09.178660\n",
      "-19\n",
      "12:11:30\n"
     ]
    }
   ],
   "source": [
    "# 2. 离你的重要纪念日还有多少天\n",
    "important_day=datetime.datetime.strptime('2018-06-1','%Y-%m-%d') \n",
    "now = datetime.datetime.now()\n",
    "print(important_day>now)\n",
    "d3=b-important_day\n",
    "print(d3)\n",
    "print(d3.days)\n",
    "t=datetime.time(12,11,30)\n",
    "print(t)"
   ]
  },
  {
   "cell_type": "code",
   "execution_count": 88,
   "metadata": {},
   "outputs": [
    {
     "name": "stdout",
     "output_type": "stream",
     "text": [
      "please input 0 or 1:0\n",
      "4999950000\n",
      "time-delta:\n",
      "-2.0242247581481934\n",
      "clock-delta:\n",
      "-2.0244698884554992\n"
     ]
    }
   ],
   "source": [
    "# 3. 两段程序哪个快些\n",
    "############## time.time and time.clock ####################\n",
    "import time\n",
    "\n",
    "a=input(\"please input 0 or 1:\")\n",
    "\n",
    "start_time = time.time()\n",
    "start_clock = time.clock()\n",
    "\n",
    "\n",
    "if str(a)=='0':\n",
    "    sum_i=0\n",
    "    for i in range(100000):\n",
    "        sum_i+=i\n",
    "else:\n",
    "    sum_i=sum(range(100000))\n",
    "\n",
    "print(sum_i)\n",
    "\n",
    "time.sleep(2)\n",
    "end_time = time.time()\n",
    "end_clock = time.clock()\n",
    "\n",
    "print(\"time-delta:\")\n",
    "print(start_time-end_time)\n",
    "print(\"clock-delta:\")\n",
    "print(start_clock-end_clock)"
   ]
  },
  {
   "cell_type": "markdown",
   "metadata": {},
   "source": [
    "## 5.列表和元组"
   ]
  },
  {
   "cell_type": "code",
   "execution_count": 95,
   "metadata": {},
   "outputs": [
    {
     "name": "stdout",
     "output_type": "stream",
     "text": [
      "----------- index and slice ----------\n",
      "1\n",
      "5\n",
      "[1, 2, 3, 4]\n",
      "[1, 3, 5]\n"
     ]
    }
   ],
   "source": [
    "a=[1,2,3,4,5]\n",
    "print(\"----------- index and slice ----------\")\n",
    "\n",
    "print(a[0])\n",
    "print(a[-1])\n",
    "print(a[0:4])\n",
    "print(a[0:5:2])"
   ]
  },
  {
   "cell_type": "code",
   "execution_count": 96,
   "metadata": {},
   "outputs": [
    {
     "name": "stdout",
     "output_type": "stream",
     "text": [
      "------------ ref and copy -----------\n",
      "a=[1, 2, 3, 4, 5]\n",
      "a_ref=[1, 2, 100, 4, 5]\n",
      "a_copy=[1, 2, 100, 4, 5]\n"
     ]
    }
   ],
   "source": [
    "print(\"------------ ref and copy -----------\")\n",
    "\n",
    "a_ref=a\n",
    "print(\"a=\"+str(a))\n",
    "a[2]=100\n",
    "print(\"a_ref=\"+str(a_ref))\n",
    "\n",
    "a_copy = a[:]\n",
    "print(\"a_copy=\"+str(a_copy))"
   ]
  },
  {
   "cell_type": "code",
   "execution_count": 97,
   "metadata": {},
   "outputs": [
    {
     "name": "stdout",
     "output_type": "stream",
     "text": [
      "------------ list methods ----------\n",
      "After append: a=[1, 2, 100, 4, 5, 300]\n",
      "After insert: a=[1, 50, 2, 100, 4, 5, 300]\n",
      "After pop: a=[1, 50, 2, 100, 4, 5]\n",
      "After sort: a=[1, 2, 4, 5, 50, 100]\n",
      "After reverse: a=[100, 50, 5, 4, 2, 1]\n",
      "After del: a=[50, 5, 4, 2, 1]\n"
     ]
    }
   ],
   "source": [
    "print(\"------------ list methods ----------\")\n",
    "a.append(300)\n",
    "print(\"After append: a=\"+str(a))\n",
    "\n",
    "a.insert(1,50)\n",
    "print(\"After insert: a=\"+str(a))\n",
    "\n",
    "a.pop()\n",
    "print(\"After pop: a=\"+str(a))\n",
    "\n",
    "a.sort()\n",
    "print(\"After sort: a=\"+str(a))\n",
    "\n",
    "a.reverse()\n",
    "print(\"After reverse: a=\"+str(a))\n",
    "\n",
    "del a[0]\n",
    "print(\"After del: a=\"+str(a))"
   ]
  },
  {
   "cell_type": "markdown",
   "metadata": {},
   "source": [
    "## 6.字典"
   ]
  },
  {
   "cell_type": "code",
   "execution_count": 115,
   "metadata": {},
   "outputs": [
    {
     "name": "stdout",
     "output_type": "stream",
     "text": [
      "a: {'xiaoli': 33, 'xiaowang': 20, 'xiaozhang': 40}\n",
      "b:  {'xiaoli': 33, 'xiaowang': 20, 'xiaozhang': 40}\n"
     ]
    }
   ],
   "source": [
    "#--------用dict直接生成, \n",
    "name_age=(('xiaoli',33),('xiaowang',20),('xiaozhang',40))\n",
    "a=dict(name_age)\n",
    "b=dict(xiaoli=33,xiaowang=20,xiaozhang=40)\n",
    "print('a: '+str(a))\n",
    "print('b: ',b)"
   ]
  },
  {
   "cell_type": "code",
   "execution_count": 116,
   "metadata": {},
   "outputs": [
    {
     "name": "stdout",
     "output_type": "stream",
     "text": [
      "{'c++': 38599, 'python': 100931, 'shell': 26153, 'ruby': 93142, 'java': 84275, 'javascript': 184220, 'c': 46843}\n"
     ]
    }
   ],
   "source": [
    "#--------如何将两个等长度的list合并成dict\n",
    "text = 'c++ python shell ruby java javascript c'\n",
    "code_num = [38599, 100931, 26153, 93142, 84275, 184220, 46843]\n",
    "\n",
    "text_list=text.split(' ')\n",
    "code_dict = dict(zip(text_list,code_num))\n",
    "print(code_dict)"
   ]
  },
  {
   "cell_type": "code",
   "execution_count": 117,
   "metadata": {},
   "outputs": [
    {
     "name": "stdout",
     "output_type": "stream",
     "text": [
      "dict_keys(['c++', 'python', 'shell', 'ruby', 'java', 'javascript', 'c'])\n",
      "c++\n",
      "python\n",
      "shell\n",
      "ruby\n",
      "java\n",
      "javascript\n",
      "c\n"
     ]
    }
   ],
   "source": [
    "#--------key, keys, items, values\n",
    "code_dict['python']\n",
    "code_dict.keys()\n",
    "code_dict.values()\n",
    "code_dict.items()\n",
    "print(code_dict.keys())\n",
    "for key in code_dict.keys():\n",
    "    print(key)"
   ]
  },
  {
   "cell_type": "code",
   "execution_count": 118,
   "metadata": {},
   "outputs": [
    {
     "name": "stdout",
     "output_type": "stream",
     "text": [
      "啥都没有呀\n"
     ]
    }
   ],
   "source": [
    "#--------get\n",
    "a=code_dict.get('fortran',\"啥都没有呀\")\n",
    "print(a)"
   ]
  },
  {
   "cell_type": "code",
   "execution_count": 119,
   "metadata": {},
   "outputs": [],
   "source": [
    "#------- ref and copy\n",
    "a_ref = code_dict\n",
    "a_copy = code_dict.copy()"
   ]
  },
  {
   "cell_type": "code",
   "execution_count": 120,
   "metadata": {},
   "outputs": [
    {
     "name": "stdout",
     "output_type": "stream",
     "text": [
      "{'python': 100931, 'shell': 26153, 'ruby': 93142, 'java': 84275, 'javascript': 184220, 'c': 46843, 'php': 78014, 'objective-c': 34444}\n",
      "{'c++': 38599, 'python': 100931, 'shell': 26153, 'ruby': 93142, 'java': 84275, 'javascript': 184220, 'c': 46843}\n",
      "None\n",
      "啥都没有呀\n"
     ]
    }
   ],
   "source": [
    "#--------update, del, copy, clear\n",
    "other_code = {'php':78014,'objective-c':34444}\n",
    "code_dict.update(other_code)\n",
    "del code_dict['c++']\n",
    "print(a_ref)\n",
    "print(a_copy)\n",
    "print(a_ref.clear())\n",
    "print(a)"
   ]
  },
  {
   "cell_type": "code",
   "execution_count": 121,
   "metadata": {},
   "outputs": [
    {
     "data": {
      "text/plain": [
       "[('c', 46843),\n",
       " ('c++', 38599),\n",
       " ('java', 84275),\n",
       " ('javascript', 184220),\n",
       " ('python', 100931),\n",
       " ('ruby', 93142),\n",
       " ('shell', 26153)]"
      ]
     },
     "execution_count": 121,
     "metadata": {},
     "output_type": "execute_result"
    }
   ],
   "source": [
    "#--------sort key and value\n",
    "[(k,a_copy[k]) for k in sorted(a_copy.keys())]"
   ]
  },
  {
   "cell_type": "markdown",
   "metadata": {},
   "source": [
    "## 7.文件类型"
   ]
  },
  {
   "cell_type": "markdown",
   "metadata": {},
   "source": [
    "* F = open(path,mode)</br>\n",
    "\n",
    "   mode = 'r','w','a'</br>\n",
    "   \n",
    "   \n",
    "* F = codecs.open(path,mode,encoding)"
   ]
  },
  {
   "cell_type": "code",
   "execution_count": 125,
   "metadata": {},
   "outputs": [],
   "source": [
    "import codecs#中文支持\n",
    "f=codecs.open('file_ch.txt','w','utf-8')\n",
    "#write file\n",
    "f.write('用python做些事\\n')\n",
    "f.write('袁洁\\n')\n",
    "f.write('是个好人\\n')\n",
    "f.close()"
   ]
  },
  {
   "cell_type": "code",
   "execution_count": 126,
   "metadata": {},
   "outputs": [
    {
     "name": "stdout",
     "output_type": "stream",
     "text": [
      "用python做些事\n",
      "\n",
      "袁洁\n",
      "\n",
      "是个好人\n",
      "\n"
     ]
    }
   ],
   "source": [
    "#read file\n",
    "f=codecs.open('file_ch.txt','r','utf-8')\n",
    "print(f.readline())\n",
    "print(f.readline())\n",
    "print(f.readline())\n",
    "f.close()"
   ]
  },
  {
   "cell_type": "code",
   "execution_count": 127,
   "metadata": {
    "scrolled": true
   },
   "outputs": [
    {
     "name": "stdout",
     "output_type": "stream",
     "text": [
      "True\n",
      "False\n"
     ]
    }
   ],
   "source": [
    "########################## os ################\n",
    "import os\n",
    "print(os.path.exists('file_ch.txt'))\n",
    "os.rename('file_ch.txt', 'file_test.txt')\n",
    "print(os.path.exists('file_ch.txt'))"
   ]
  }
 ],
 "metadata": {
  "kernelspec": {
   "display_name": "Python 3",
   "language": "python",
   "name": "python3"
  },
  "language_info": {
   "codemirror_mode": {
    "name": "ipython",
    "version": 3
   },
   "file_extension": ".py",
   "mimetype": "text/x-python",
   "name": "python",
   "nbconvert_exporter": "python",
   "pygments_lexer": "ipython3",
   "version": "3.6.3"
  }
 },
 "nbformat": 4,
 "nbformat_minor": 2
}
