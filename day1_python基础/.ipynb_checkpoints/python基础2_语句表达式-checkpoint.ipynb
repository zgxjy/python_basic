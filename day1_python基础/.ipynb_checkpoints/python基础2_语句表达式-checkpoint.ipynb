{
 "cells": [
  {
   "cell_type": "markdown",
   "metadata": {},
   "source": [
    "# 学习方法\n",
    "* 多尝试\n",
    "* 别打算全记牢，过一下知道有这些方法\n",
    "* 熟练使用百度\n",
    "* 学会解决bug"
   ]
  },
  {
   "cell_type": "markdown",
   "metadata": {},
   "source": [
    "# 本节课目录：\n",
    "1. 输入输出\n",
    "1. if/else\n",
    "1. for/while\n",
    "1. 列表解析\n",
    "1. 异常处理"
   ]
  },
  {
   "cell_type": "markdown",
   "metadata": {},
   "source": [
    "## 1.输入输出"
   ]
  },
  {
   "cell_type": "code",
   "execution_count": 4,
   "metadata": {},
   "outputs": [
    {
     "name": "stdout",
     "output_type": "stream",
     "text": [
      "please input your name:yuanjie\n",
      "Hello yuanjie\n",
      "please calculate 2^100:2\n",
      "2^100 = 2\n",
      "yuanjie have input 2\n"
     ]
    }
   ],
   "source": [
    "x = input(\"please input your name:\")\n",
    "print(\"Hello\",x)\n",
    "\n",
    "y = input(\"please calculate 2^100:\")\n",
    "print (\"2^100 = %d\"%float(y))\n",
    "\n",
    "print(\"{name} have input {number}\".format(name=x,number=y))"
   ]
  },
  {
   "cell_type": "markdown",
   "metadata": {},
   "source": [
    "## 2.if/else"
   ]
  },
  {
   "cell_type": "code",
   "execution_count": 5,
   "metadata": {},
   "outputs": [
    {
     "name": "stdout",
     "output_type": "stream",
     "text": [
      "1\n"
     ]
    }
   ],
   "source": [
    "x,y,z=[1,2,-2]\n",
    "if x>0:\n",
    "    a=x\n",
    "elif x==0:\n",
    "    a=y\n",
    "else:\n",
    "    a=z\n",
    "print(a)"
   ]
  },
  {
   "cell_type": "code",
   "execution_count": 8,
   "metadata": {},
   "outputs": [
    {
     "name": "stdout",
     "output_type": "stream",
     "text": [
      "5\n"
     ]
    }
   ],
   "source": [
    "x=3; y=4; z=5\n",
    "a=y if x<0 else z\n",
    "print(a)"
   ]
  },
  {
   "cell_type": "markdown",
   "metadata": {},
   "source": [
    "## 3.for/while"
   ]
  },
  {
   "cell_type": "code",
   "execution_count": 9,
   "metadata": {},
   "outputs": [
    {
     "name": "stdout",
     "output_type": "stream",
     "text": [
      "10\n",
      "8\n",
      "6\n",
      "4\n",
      "2\n"
     ]
    }
   ],
   "source": [
    "# 打印［10-0]之间的偶数\n",
    "x = 10\n",
    "while x:\n",
    "    if x % 2 == 0: # Even? \n",
    "        print (x)\n",
    "    x = x-1"
   ]
  },
  {
   "cell_type": "code",
   "execution_count": 15,
   "metadata": {},
   "outputs": [
    {
     "name": "stdout",
     "output_type": "stream",
     "text": [
      "20\n",
      "20 has factor 10\n"
     ]
    }
   ],
   "source": [
    "# 判断是否素数(质数)：大于1的自然数，除1和它本身外没有整数能够整除\n",
    "y=int(input())\n",
    "x = y // 2 \n",
    "while x > 1:\n",
    "    if y % x == 0: \n",
    "        print (y, 'has factor', int(x))\n",
    "        break\n",
    "    x -= 1\n",
    "else: # Normal exit\n",
    "    print (y, 'is prime number')"
   ]
  },
  {
   "cell_type": "markdown",
   "metadata": {},
   "source": [
    "## 4.列表解析"
   ]
  },
  {
   "cell_type": "code",
   "execution_count": 18,
   "metadata": {},
   "outputs": [
    {
     "name": "stdout",
     "output_type": "stream",
     "text": [
      "0 is list comprehension, 1 is for loop:0\n",
      "length of result is 9714\n",
      "1000 次的最好运行时间为 0.003523148493954409 s\n",
      "1000 次的平均运行时间为 0.0047633822909759335 s\n"
     ]
    }
   ],
   "source": [
    "# 1. 两段程序哪个快些\n",
    "##################################\n",
    "import time\n",
    "\n",
    "is_forloop =input(\"0 is list comprehension, 1 is for loop:\")\n",
    "\n",
    "min_time = 1000\n",
    "avg_time = 0.0\n",
    "run_loops = 1000\n",
    "for num in range(run_loops):\n",
    "    start_clock = time.clock()\n",
    "    if is_forloop:\n",
    "        a=[]\n",
    "        for x in range(0,100):\n",
    "            for y in range(0,100):\n",
    "                if x*y>25:\n",
    "                    a.append((x,y))\n",
    "    else:\n",
    "        a=[(x,y) for x in range(100) for y in range(100) if x*y > 25]\n",
    "    \n",
    "    end_clock = time.clock()\n",
    "    avg_time += end_clock-start_clock\n",
    "    if (end_clock-start_clock)<min_time:\n",
    "        min_time = end_clock-start_clock\n",
    "        \n",
    "print (\"length of result is\",len(a))\n",
    "print (run_loops,u\"次的最好运行时间为\",min_time,'s')\n",
    "print (run_loops,u\"次的平均运行时间为\",avg_time/run_loops,'s')"
   ]
  },
  {
   "cell_type": "markdown",
   "metadata": {},
   "source": [
    "## 5.异常处理"
   ]
  },
  {
   "cell_type": "code",
   "execution_count": 24,
   "metadata": {},
   "outputs": [
    {
     "name": "stdout",
     "output_type": "stream",
     "text": [
      "except excute\n",
      "'int' object is not subscriptable\n"
     ]
    }
   ],
   "source": [
    "#a[1]         #NameError\n",
    "#a=2; a[1]    #TypeError\n",
    "#a=[2]; a[1]  #IndexError\n",
    "#a={}; a[1]   #KeyError\n",
    "\n",
    "try:\n",
    "    a=2\n",
    "    print (a[1])\n",
    "    #raise IndexError(\"error\")\n",
    "    #assert a[1]==0,\"assert error\"\n",
    "except Exception as e:\n",
    "    print (\"except excute\")\n",
    "    print (e)\n",
    "#finally:\n",
    "#\tprint \"finally excute\""
   ]
  }
 ],
 "metadata": {
  "kernelspec": {
   "display_name": "Python 3",
   "language": "python",
   "name": "python3"
  },
  "language_info": {
   "codemirror_mode": {
    "name": "ipython",
    "version": 3
   },
   "file_extension": ".py",
   "mimetype": "text/x-python",
   "name": "python",
   "nbconvert_exporter": "python",
   "pygments_lexer": "ipython3",
   "version": "3.6.3"
  }
 },
 "nbformat": 4,
 "nbformat_minor": 2
}
