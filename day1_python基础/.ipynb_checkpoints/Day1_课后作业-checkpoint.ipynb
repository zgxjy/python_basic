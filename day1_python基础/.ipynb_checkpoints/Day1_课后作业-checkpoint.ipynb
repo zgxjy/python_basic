{
 "cells": [
  {
   "cell_type": "markdown",
   "metadata": {},
   "source": [
    "## Day1: 作业"
   ]
  },
  {
   "cell_type": "markdown",
   "metadata": {},
   "source": [
    "** 作业1：画出$y=3\\times{x}^3$的图像 **"
   ]
  },
  {
   "cell_type": "markdown",
   "metadata": {},
   "source": [
    "** 作业2：编写email的正则表达式:**\n",
    "邮箱名可以是英文字母或数字或-,_符号，邮箱后缀网址名可以是英文字母或数字，域名可以是com,org,edu \n",
    "\n",
    "示例： yuan_jie-1994@163.com\n",
    "\n",
    "文本：text='aaa@163.com chu-tian-shu_1981@heibanke2015.com abc-fff@xfd.org ccc_fd2@fff.edu aaa@111 com'，从这里面找到所有符合的邮箱"
   ]
  },
  {
   "cell_type": "markdown",
   "metadata": {},
   "source": [
    "** 作业3：利用随机函数产生一个用户的用户名，密码，并利用文件将用户名和密码保存下来**"
   ]
  },
  {
   "cell_type": "markdown",
   "metadata": {},
   "source": [
    "** 作业4：上面的文件密码没有加密，不安全，请将文件内容读出后将密码字段通过md5的库处理后，再保存到另一个文件**"
   ]
  },
  {
   "cell_type": "markdown",
   "metadata": {},
   "source": [
    "** 作业5：将公交车数据中Linenum,station字段读取出来，并加载为字典形式{Linenum:station}**</br>     \n",
    "\n",
    "    结果如{'1(马官营-四惠站)':['马官营,六里桥北里,公主坟南站']}"
   ]
  },
  {
   "cell_type": "code",
   "execution_count": null,
   "metadata": {},
   "outputs": [],
   "source": []
  }
 ],
 "metadata": {
  "kernelspec": {
   "display_name": "Python 3",
   "language": "python",
   "name": "python3"
  },
  "language_info": {
   "codemirror_mode": {
    "name": "ipython",
    "version": 3
   },
   "file_extension": ".py",
   "mimetype": "text/x-python",
   "name": "python",
   "nbconvert_exporter": "python",
   "pygments_lexer": "ipython3",
   "version": "3.6.3"
  }
 },
 "nbformat": 4,
 "nbformat_minor": 2
}
