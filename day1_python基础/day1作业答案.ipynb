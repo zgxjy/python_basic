{
 "cells": [
  {
   "cell_type": "markdown",
   "metadata": {},
   "source": [
    "** 作业1：画出$y=3\\times{x}^3$的图像 **</br>  \n",
    "* 参考帮助：[matplotlib 绘图可视化知识点整理](http://python.jobbole.com/85106/)\n"
   ]
  },
  {
   "cell_type": "code",
   "execution_count": 19,
   "metadata": {},
   "outputs": [
    {
     "data": {
      "image/png": "[encoded data removed]",
      "text/plain": [
       "<Figure size 432x288 with 1 Axes>"
      ]
     },
     "metadata": {},
     "output_type": "display_data"
    }
   ],
   "source": [
    "import numpy as np\n",
    "import random\n",
    "import matplotlib.pyplot as plt\n",
    "#这句话是让画的图在行中显示\n",
    "%matplotlib inline \n",
    "\n",
    "def f(t):\n",
    "    return 3*np.power(t,3)\n",
    "\n",
    "t1 = np.arange(-5.0, 5.0, 0.1)\n",
    "\n",
    "plt.figure()\n",
    "plt.plot(t1, f(t1))\n",
    "plt.title(r\"$y=3\\times{x}^3$\")\n",
    "plt.show()"
   ]
  },
  {
   "cell_type": "markdown",
   "metadata": {},
   "source": [
    "**作业2：编写email的正则表达式: 邮箱名可以是英文字母或数字或-,_符号，邮箱后缀网址名可以是英文字母或数字，域名可以是com,org,edu**"
   ]
  },
  {
   "cell_type": "code",
   "execution_count": 54,
   "metadata": {},
   "outputs": [
    {
     "name": "stdout",
     "output_type": "stream",
     "text": [
      "['aaa@163.com', 'chu-tian-shu_1981@heibanke2015.com', 'abc-fff@xfd.org', 'ccc_fd2@fff.edu']\n"
     ]
    }
   ],
   "source": [
    "import re\n",
    "text = 'aaa@163.com chu-tian-shu_1981@heibanke2015.com abc-fff@xfd.org ccc_fd2@fff.edu aaa@111 com'\n",
    "pattern = re.compile('[\\w\\-]*@\\w*\\.[com,org,edu]{1,}')\n",
    "found = pattern.findall(text)\n",
    "print(found)"
   ]
  },
  {
   "cell_type": "markdown",
   "metadata": {},
   "source": [
    "** 作业3：利用随机函数产生一个用户的用户名，密码，并利用文件将用户名和密码保存下来**"
   ]
  },
  {
   "cell_type": "code",
   "execution_count": 71,
   "metadata": {},
   "outputs": [
    {
     "name": "stdout",
     "output_type": "stream",
     "text": [
      "文件已保存\n"
     ]
    }
   ],
   "source": [
    "import random\n",
    "import codecs\n",
    "\n",
    "charactor='abcdefghijklmnopqrstuvwxyz0123456789_'\n",
    "len_char = len(charactor)-1\n",
    "filename = 'name_password.txt'\n",
    "\n",
    "name_list = []\n",
    "password_list = []\n",
    "for i in range(random.randint(0,10)):\n",
    "    name_list.append(charactor[random.randint(0,len_char)])\n",
    "name = ''.join(name_list)\n",
    "for i in range(random.randint(10,20)):\n",
    "    password_list.append(charactor[random.randint(0,len_char)])\n",
    "password = ''.join(password_list)\n",
    "\n",
    "with codecs.open(filename,'w') as f:\n",
    "    f.write(name+','+password+'\\n')\n",
    "    print(\"文件已保存\")\n",
    "f.close() "
   ]
  },
  {
   "cell_type": "markdown",
   "metadata": {},
   "source": [
    "** 作业4：上面的文件密码没有加密，不安全，请将文件内容读出后将密码字段通过md5的库处理后，再保存到另一个文件**"
   ]
  },
  {
   "cell_type": "code",
   "execution_count": 74,
   "metadata": {},
   "outputs": [
    {
     "name": "stdout",
     "output_type": "stream",
     "text": [
      "['vj64_', 'vk5oms8k8spu3_wee4_']\n"
     ]
    }
   ],
   "source": [
    "file = codecs.open(filename,'r')\n",
    "name_password = file.readline().strip().split(',')\n",
    "print(name_password)\n",
    "\n",
    "file.close()\n",
    "\n",
    "# md5 process\n",
    "import hashlib\n",
    "password_md5 = hashlib.md5(name_password[1].encode('utf-8')).hexdigest()\n",
    "\n",
    "# write file\n",
    "f=open('a_md5.txt','w')\n",
    "f.write(name_password[0]+','+password_md5+'\\n')\n",
    "\n",
    "f.close()"
   ]
  },
  {
   "cell_type": "markdown",
   "metadata": {},
   "source": [
    "** 作业5：将公交车数据中Linenum,station字段读取出来，并加载为字典形式{Linenum:station}**</br>     \n",
    "\n",
    "    结果如{'1(马官营-四惠站)':['马官营,六里桥北里,公主坟南站']}"
   ]
  },
  {
   "cell_type": "code",
   "execution_count": 83,
   "metadata": {},
   "outputs": [
    {
     "data": {
      "text/html": [
       "<div>\n",
       "<style scoped>\n",
       "    .dataframe tbody tr th:only-of-type {\n",
       "        vertical-align: middle;\n",
       "    }\n",
       "\n",
       "    .dataframe tbody tr th {\n",
       "        vertical-align: top;\n",
       "    }\n",
       "\n",
       "    .dataframe thead th {\n",
       "        text-align: right;\n",
       "    }\n",
       "</style>\n",
       "<table border=\"1\" class=\"dataframe\">\n",
       "  <thead>\n",
       "    <tr style=\"text-align: right;\">\n",
       "      <th></th>\n",
       "      <th>ID</th>\n",
       "      <th>linenum</th>\n",
       "      <th>fstation</th>\n",
       "      <th>lstation</th>\n",
       "      <th>linelong</th>\n",
       "      <th>co</th>\n",
       "      <th>kongtiao</th>\n",
       "      <th>yuepiao</th>\n",
       "      <th>piaozhi</th>\n",
       "      <th>pay</th>\n",
       "      <th>ftime</th>\n",
       "      <th>ltime</th>\n",
       "      <th>station</th>\n",
       "    </tr>\n",
       "  </thead>\n",
       "  <tbody>\n",
       "    <tr>\n",
       "      <th>0</th>\n",
       "      <td>43</td>\n",
       "      <td>1(马官营-四惠站)</td>\n",
       "      <td>马官营</td>\n",
       "      <td>四惠站</td>\n",
       "      <td>22.0</td>\n",
       "      <td>客六</td>\n",
       "      <td>否</td>\n",
       "      <td>有效</td>\n",
       "      <td>单一票制</td>\n",
       "      <td>1.00</td>\n",
       "      <td>5:00</td>\n",
       "      <td>23:00</td>\n",
       "      <td>1 马官营 \\r\\n \\r\\n2 六里桥北里 \\r\\n \\r\\n3 公主坟南站 \\r\\n \\...</td>\n",
       "    </tr>\n",
       "    <tr>\n",
       "      <th>1</th>\n",
       "      <td>44</td>\n",
       "      <td>1(四惠站-马官营)</td>\n",
       "      <td>四惠站</td>\n",
       "      <td>马官营</td>\n",
       "      <td>22.0</td>\n",
       "      <td>客六</td>\n",
       "      <td>否</td>\n",
       "      <td>有效</td>\n",
       "      <td>单一票制</td>\n",
       "      <td>1.00</td>\n",
       "      <td>5:00</td>\n",
       "      <td>23:00</td>\n",
       "      <td>1 四惠站 \\r\\n \\r\\n2 八王坟 \\r\\n \\r\\n3 郎家园 \\r\\n \\r\\n4...</td>\n",
       "    </tr>\n",
       "  </tbody>\n",
       "</table>\n",
       "</div>"
      ],
      "text/plain": [
       "   ID     linenum fstation lstation  linelong  co kongtiao yuepiao piaozhi  \\\n",
       "0  43  1(马官营-四惠站)      马官营      四惠站      22.0  客六        否      有效    单一票制   \n",
       "1  44  1(四惠站-马官营)      四惠站      马官营      22.0  客六        否      有效    单一票制   \n",
       "\n",
       "    pay ftime  ltime                                            station  \n",
       "0  1.00  5:00  23:00  1 马官营 \\r\\n \\r\\n2 六里桥北里 \\r\\n \\r\\n3 公主坟南站 \\r\\n \\...  \n",
       "1  1.00  5:00  23:00  1 四惠站 \\r\\n \\r\\n2 八王坟 \\r\\n \\r\\n3 郎家园 \\r\\n \\r\\n4...  "
      ]
     },
     "execution_count": 83,
     "metadata": {},
     "output_type": "execute_result"
    }
   ],
   "source": [
    "import pandas as pd\n",
    "import re \n",
    "\n",
    "data = pd.read_csv('beijing_jt.csv')\n",
    "data.head(2)"
   ]
  },
  {
   "cell_type": "code",
   "execution_count": 93,
   "metadata": {},
   "outputs": [],
   "source": [
    "linenum = data['linenum']\n",
    "station = data['station']\n",
    "station_list = []\n",
    "pattern = re.compile(('(?P<number>[0-9]+)\\s(?P<name>\\D+)'))\n",
    "\n",
    "for i in range(len(station)):\n",
    "    line_station_list=[]\n",
    "    for tmp in pattern.findall(station[i]):\n",
    "        line_station_list.append(tmp[1].strip())\n",
    "    station_list.append(line_station_list)\n",
    "    \n",
    "station_dict = dict(zip(linenum,station_list))\n",
    "#print(station_dict)"
   ]
  },
  {
   "cell_type": "markdown",
   "metadata": {},
   "source": [
    "** 作业6：接着上一个作业，提醒输入一个公交站名，然后找到所有包含此公交站名的的线路并装成一个字典输入出来**"
   ]
  },
  {
   "cell_type": "code",
   "execution_count": 107,
   "metadata": {},
   "outputs": [
    {
     "name": "stdout",
     "output_type": "stream",
     "text": [
      "请输入你想查询的站点：四惠站\n",
      "{'四惠站': ['1(马官营-四惠站)', '1(四惠站-马官营)', '207(大屯西站-四惠站)', '207(四惠站-大屯西站)', '312(大北窑-乔庄)', '312(乔庄-大北窑)', '322(四惠站-武夷花园)', '322(武夷花园-四惠站)', '363(青青家园-四惠站)', '363(四惠站-青青家园)', '397(大鲁店东街-四惠站)', '397(四惠站-大鲁店东街)', '4(靛厂新村-四惠站)', '4(四惠站-靛厂新村)', '402(南皋-四惠站)', '402(四惠站-南皋)', '405(四惠站-孙河东站)', '405(孙河东站-四惠站)', '57(公主坟-四惠站)', '57(四惠站-公主坟)', '628(东北旺中路-康家沟)', '628(康家沟-东北旺中路)', '715(四惠站-云岗南宫)', '715(云岗南宫-四惠站)', '725(南花园-一亩园)', '725(一亩园-南花园)', '728(古城南街-武夷花园)', '728(武夷花园-古城南街)', '825(四惠站-一亩园)', '825(一亩园-四惠站)', '847(都市芳园-豆各庄乡政府)', '847(豆各庄乡政府-都市芳园)', '928支(结核病研究所-郎家园)', '928支(郎家园-结核病研究所)', '928支1(疃里三区-周家庄)', '928支1(周家庄-疃里三区)', '976支(北湖渠-大地站)', '976支(大地站-北湖渠)', '984(高丽营-四惠)', '984(四惠-高丽营)']}\n"
     ]
    }
   ],
   "source": [
    "search_station = input(\"请输入你想查询的站点：\")\n",
    "search_line = []\n",
    "stat_keys = list(station_dict.keys())\n",
    "stat_values = list(station_dict.values())\n",
    "for i in range(len(station_dict)):\n",
    "    if search_station in stat_values[i]:\n",
    "        search_line.append(stat_keys[i])\n",
    "search_dict = dict({search_station:search_line})\n",
    "print(search_dict)\n"
   ]
  },
  {
   "cell_type": "code",
   "execution_count": null,
   "metadata": {},
   "outputs": [],
   "source": []
  }
 ],
 "metadata": {
  "kernelspec": {
   "display_name": "Python 3",
   "language": "python",
   "name": "python3"
  },
  "language_info": {
   "codemirror_mode": {
    "name": "ipython",
    "version": 3
   },
   "file_extension": ".py",
   "mimetype": "text/x-python",
   "name": "python",
   "nbconvert_exporter": "python",
   "pygments_lexer": "ipython3",
   "version": "3.6.3"
  }
 },
 "nbformat": 4,
 "nbformat_minor": 2
}
