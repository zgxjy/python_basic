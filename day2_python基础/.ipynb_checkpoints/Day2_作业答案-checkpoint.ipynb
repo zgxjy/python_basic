{
 "cells": [
  {
   "cell_type": "markdown",
   "metadata": {},
   "source": [
    "## 作业1：请定义一个函数quadratic(a, b, c)，接收3个参数，返回一元二次方程：\n",
    "$a\\times{X}^2 + b\\times{X} + c = 0$的两个解。"
   ]
  },
  {
   "cell_type": "code",
   "execution_count": 49,
   "metadata": {},
   "outputs": [],
   "source": [
    "import math\n",
    "def quadratic(a,b,c):\n",
    "    judge = b**2 - 4*a*c\n",
    "    if  judge < 0:\n",
    "        print(\"无解\")\n",
    "    elif judge == 0:\n",
    "        print('x1=x2=%d'%((-b)/(2*a)))\n",
    "    else:\n",
    "        print(\"x1: \",((-b)-math.sqrt(judge))/(2*a))\n",
    "        print(\"x2: \",((-b)+math.sqrt(judge))/(2*a))"
   ]
  },
  {
   "cell_type": "code",
   "execution_count": 50,
   "metadata": {},
   "outputs": [
    {
     "name": "stdout",
     "output_type": "stream",
     "text": [
      "这是一个解a*X^2+b*X+c = 0的方程\n",
      "请依次输入a,b,c\n",
      "a:-4\n",
      "b:-3\n",
      "c:1\n",
      "x1:  0.25\n",
      "x2:  -1.0\n"
     ]
    }
   ],
   "source": [
    "print(\"这是一个解a*X^2+b*X+c = 0的方程\")\n",
    "print(\"请依次输入a,b,c\")\n",
    "a = float(input('a:'));b=float(input('b:'));c=float(input('c:'))\n",
    "quadratic(a,b,c)"
   ]
  },
  {
   "cell_type": "markdown",
   "metadata": {},
   "source": [
    "## 作业2：利用map()函数，把用户输入的不规范的英文名字，变为首字母大写，其他小写的规范名字。输入：['adam', 'LISA', 'barT']，输出：['Adam', 'Lisa', 'Bart']"
   ]
  },
  {
   "cell_type": "code",
   "execution_count": 55,
   "metadata": {},
   "outputs": [
    {
     "name": "stdout",
     "output_type": "stream",
     "text": [
      "['Adam', 'Lisa', 'Bart']\n"
     ]
    }
   ],
   "source": [
    "L = ['adam', 'LISA', 'barT']\n",
    "def regu(s):\n",
    "    return s[0].upper()+s[1:].lower()\n",
    "print(list(map(regu,L)))"
   ]
  },
  {
   "cell_type": "markdown",
   "metadata": {},
   "source": [
    "## 作业3：用filter筛选0到100的素数"
   ]
  },
  {
   "cell_type": "code",
   "execution_count": 64,
   "metadata": {},
   "outputs": [
    {
     "name": "stdout",
     "output_type": "stream",
     "text": [
      "[2, 3, 5, 7, 11, 13, 17, 19, 23, 29, 31, 37, 41, 43, 47, 53, 59, 61, 67, 71, 73, 79, 83, 89, 97]\n"
     ]
    }
   ],
   "source": [
    "def is_prime(number):\n",
    "    if number > 1:\n",
    "        if number == 2:\n",
    "            return True\n",
    "        if number % 2 == 0:\n",
    "            return False\n",
    "        for current in range(3, int(math.sqrt(number) + 1), 2):\n",
    "            if number % current == 0: \n",
    "                return False\n",
    "        return True\n",
    "    return False\n",
    "print(list(filter(is_prime,range(101))))"
   ]
  },
  {
   "cell_type": "markdown",
   "metadata": {},
   "source": [
    "## 作业4:students = [('john', 'A', 15), ('jane', 'B', 12), ('Dave', 'B', 10)]，请用sorted()对上述列表分别按名字、学分、年龄排序："
   ]
  },
  {
   "cell_type": "code",
   "execution_count": 98,
   "metadata": {},
   "outputs": [
    {
     "name": "stdout",
     "output_type": "stream",
     "text": [
      "[('Dave', 'B', 10), ('jane', 'B', 12), ('john', 'A', 15)]\n",
      "[('john', 'A', 15), ('jane', 'B', 12), ('Dave', 'B', 10)]\n",
      "[('Dave', 'B', 10), ('jane', 'B', 12), ('john', 'A', 15)]\n"
     ]
    }
   ],
   "source": [
    "students = [('john', 'A', 15), ('jane', 'B', 12), ('Dave', 'B', 10)]\n",
    "print(sorted(students, key=lambda student: student[0].lower())) # 名字\n",
    "print(sorted(students, key=lambda student: student[1]))#学分\n",
    "print(sorted(students, key=lambda student: student[2]))#学分"
   ]
  },
  {
   "cell_type": "markdown",
   "metadata": {},
   "source": [
    "## 作业5 ；随便写一个闭包和装饰器"
   ]
  },
  {
   "cell_type": "code",
   "execution_count": 2,
   "metadata": {},
   "outputs": [
    {
     "name": "stdout",
     "output_type": "stream",
     "text": [
      "number: 10\n",
      "<class 'function'>\n",
      "30\n",
      "<class 'NoneType'>\n"
     ]
    }
   ],
   "source": [
    "def closure(number):\n",
    "    print(\"number:\",number)\n",
    "    def echo(value):\n",
    "        print(value*number)\n",
    "    return echo\n",
    "A = closure(10)\n",
    "print(type(A))\n",
    "B =A(3)\n",
    "print(type(B))"
   ]
  },
  {
   "cell_type": "code",
   "execution_count": 106,
   "metadata": {},
   "outputs": [],
   "source": [
    "import datetime\n",
    "def log(func):\n",
    "    def wrapper(*args, **kw):\n",
    "        print('call %s():' % func.__name__)\n",
    "        print('datetime:',datetime.datetime.now())\n",
    "        return func(*args, **kw)\n",
    "    return wrapper"
   ]
  },
  {
   "cell_type": "code",
   "execution_count": 108,
   "metadata": {},
   "outputs": [],
   "source": [
    "@log\n",
    "def print_num(num):\n",
    "    for i in range(num):\n",
    "        print(i)"
   ]
  },
  {
   "cell_type": "code",
   "execution_count": 110,
   "metadata": {},
   "outputs": [
    {
     "name": "stdout",
     "output_type": "stream",
     "text": [
      "call print_num():\n",
      "datetime: 2018-05-14 15:56:25.510553\n",
      "0\n",
      "1\n",
      "2\n",
      "3\n",
      "4\n",
      "5\n",
      "6\n",
      "7\n",
      "8\n",
      "9\n"
     ]
    }
   ],
   "source": [
    "print_num(10)"
   ]
  },
  {
   "cell_type": "code",
   "execution_count": null,
   "metadata": {},
   "outputs": [],
   "source": []
  }
 ],
 "metadata": {
  "kernelspec": {
   "display_name": "Python 3",
   "language": "python",
   "name": "python3"
  },
  "language_info": {
   "codemirror_mode": {
    "name": "ipython",
    "version": 3
   },
   "file_extension": ".py",
   "mimetype": "text/x-python",
   "name": "python",
   "nbconvert_exporter": "python",
   "pygments_lexer": "ipython3",
   "version": "3.6.3"
  }
 },
 "nbformat": 4,
 "nbformat_minor": 2
}
