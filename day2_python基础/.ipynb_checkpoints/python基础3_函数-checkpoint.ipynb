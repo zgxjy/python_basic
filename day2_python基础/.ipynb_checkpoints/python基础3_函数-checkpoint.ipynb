{
 "cells": [
  {
   "cell_type": "markdown",
   "metadata": {},
   "source": [
    "# 学习方法\n",
    "* 多尝试\n",
    "* 别打算全记牢，过一下知道有这些方法\n",
    "* 熟练使用百度\n",
    "* 学会解决bug"
   ]
  },
  {
   "cell_type": "markdown",
   "metadata": {},
   "source": [
    "# 本节课目录：\n",
    "1. 基本语法\n",
    "1. 高级函数\n",
    "1. 递归\n",
    "1. 生成器与迭代器\n",
    "1. 闭包与装饰器"
   ]
  },
  {
   "cell_type": "markdown",
   "metadata": {},
   "source": [
    "## 1.基本语法"
   ]
  },
  {
   "cell_type": "code",
   "execution_count": 27,
   "metadata": {},
   "outputs": [
    {
     "name": "stdout",
     "output_type": "stream",
     "text": [
      "in f2() 7\n",
      "in f1() 8\n",
      "out f1() 9\n"
     ]
    }
   ],
   "source": [
    "#作用域LEGB：local<enclosing<global<built in python\n",
    "#只要记得一点：外部的global变量即使在函数中有同名的，只要不是这个变量本身传进去，在函数内的改变只在函数范围内有用\n",
    "X = 9 # Global scope name\n",
    "def f1():\n",
    "    #global X #声明global变量X\n",
    "    #print (X)\n",
    "    X = 8  # Global or enclosing，在声明global之后，整体变化 \n",
    "    def f2():\n",
    "        #print (\"in f2()\", X)\n",
    "        X=7 # enclosing or local\n",
    "        print (\"in f2()\", X)\n",
    "    f2()\n",
    "    print (\"in f1()\",X)\n",
    "f1()\n",
    "print (\"out f1()\",X)#查看global变量X到底是多少了"
   ]
  },
  {
   "cell_type": "code",
   "execution_count": 38,
   "metadata": {},
   "outputs": [
    {
     "name": "stdout",
     "output_type": "stream",
     "text": [
      "10\n",
      "123 <class 'int'>\n",
      "100 <class 'str'>\n",
      "True <class 'bool'>\n",
      "2 0x2\n"
     ]
    }
   ],
   "source": [
    "print(abs(-10))#abs python内置函数\n",
    "print(int('123'),type(int('123')))#数据类型转化\n",
    "print(str(100),type(str(100)))\n",
    "print(bool(1),type(bool(1)))\n",
    "print(2,hex(2))#hex()函数把一个整数转换成十六进制表示的字符串"
   ]
  },
  {
   "cell_type": "code",
   "execution_count": 37,
   "metadata": {},
   "outputs": [
    {
     "name": "stdout",
     "output_type": "stream",
     "text": [
      "3\n"
     ]
    }
   ],
   "source": [
    "f = abs #函数名其实就是指向一个函数对象的引用，完全可以把函数名赋给一个变量，相当于给这个函数起了一个“别名”：\n",
    "def add(x, y, f):\n",
    "    return f(x) + f(y)\n",
    "\n",
    "print(add(-1,-2,f))"
   ]
  },
  {
   "cell_type": "code",
   "execution_count": 46,
   "metadata": {},
   "outputs": [
    {
     "name": "stdout",
     "output_type": "stream",
     "text": [
      "6.123233995736766e-17 1.0\n",
      "(6.123233995736766e-17, 1.0)\n"
     ]
    }
   ],
   "source": [
    "#函数可以返回多个值吗？答案是肯定的。\n",
    "import math\n",
    "def move(x, y, step, angle=0):#返回坐标\n",
    "    nx = x + step * math.cos(angle)\n",
    "    ny = y + step * math.sin(angle)\n",
    "    return nx, ny\n",
    "x,y = move(0,0,1,math.pi / 2)#y向90度的方向走了1\n",
    "print(x,y)\n",
    "#但其实这只是一种假象，Python函数返回的仍然是单一值：\n",
    "r = move(0,0,1,math.pi / 2)\n",
    "print(r)\n",
    "#返回值是一个tuple！但是，在语法上，返回一个tuple可以省略括号\n",
    "#而多个变量可以同时接收一个tuple，按位置赋给对应的值，所以，Python的函数返回多值其实就是返回一个tuple，但写起来更方便。"
   ]
  },
  {
   "cell_type": "markdown",
   "metadata": {},
   "source": [
    "* 函数的基本语法：参数\n",
    "\n",
    "    1. 定义函数的时候，我们把参数的名字和位置确定下来，函数的接口定义就完成了。对于函数的调用者来说，只需要知道如何传递正确的参数，以及函数将返回什么样的值就够了，函数内部的复杂逻辑被封装起来，调用者无需了解。\n",
    "    1. Python的函数定义非常简单，但灵活度却非常大。除了正常定义的必选参数外，还可以使用**默认参数**、**可变参数**和**关键字参数**，使得函数定义出来的接口，不但能处理复杂的参数，还可以简化调用者的代码。\n",
    "\n",
    "         [廖雪峰：函数的参数](https://www.liaoxuefeng.com/wiki/0014316089557264a6b348958f449949df42a6d3a2e542c000/001431752945034eb82ac80a3e64b9bb4929b16eeed1eb9000)\n",
    "         众多示例，请看这个，并最好熟悉"
   ]
  },
  {
   "cell_type": "code",
   "execution_count": 47,
   "metadata": {},
   "outputs": [],
   "source": [
    "def power(x, n=2):#默认平方,方便\n",
    "    s = 1\n",
    "    while n > 0:\n",
    "        n = n - 1\n",
    "        s = s * x\n",
    "    return s"
   ]
  },
  {
   "cell_type": "code",
   "execution_count": 49,
   "metadata": {},
   "outputs": [
    {
     "name": "stdout",
     "output_type": "stream",
     "text": [
      "9\n",
      "27\n"
     ]
    }
   ],
   "source": [
    "print(power(3))\n",
    "print(power(3,3))"
   ]
  },
  {
   "cell_type": "code",
   "execution_count": 12,
   "metadata": {},
   "outputs": [],
   "source": [
    "def f1(a,b,c,d):\n",
    "    e = (a+b)\n",
    "    f = e*c\n",
    "    g = f-d\n",
    "    return g\n",
    "\n",
    "def f2(a,b,c,d):\n",
    "    e = (a+b)\n",
    "    f = c-d\n",
    "    g = e*f\n",
    "    return g\n",
    "    \n",
    "def f_add(a,b):\n",
    "    return a+b\n",
    "def f_mul(a,b):\n",
    "    return a*b\n",
    "def f_sub(a,b):\n",
    "    return a-b\n",
    "    \n",
    "def g1(f,a,b):\n",
    "    return f(a,b)"
   ]
  },
  {
   "cell_type": "code",
   "execution_count": 13,
   "metadata": {},
   "outputs": [
    {
     "name": "stdout",
     "output_type": "stream",
     "text": [
      "5 -3\n",
      "5 -3\n"
     ]
    }
   ],
   "source": [
    "a,b,c,d = 1,2,3,4\n",
    "print (f1(a,b,c,d), f2(a,b,c,d))\n",
    "print (g1(f_sub, g1(f_mul, g1(f_add,a,b), c), d),  g1(f_mul, g1(f_add,a,b), g1(f_sub,c, d)))#只是用来展示参数的使用，不会真的现实这么用"
   ]
  },
  {
   "cell_type": "markdown",
   "metadata": {},
   "source": [
    "### 二分法求平方根\n",
    "\n",
    "**思想**：在一个区间中，每次拿中间数的平方来试验，如果大了，就再试左区间的中间数；如果小了，就再拿右区间的中间数来试。比如求sqrt(16)的结果，你先试（0+16）/2=8，8*8=64，64比16大，然后就向左移，试（0+8）/2=4，4*4=16刚好，得到了正确的结果sqrt(16)=4。"
   ]
  },
  {
   "cell_type": "code",
   "execution_count": 8,
   "metadata": {},
   "outputs": [],
   "source": [
    "#一个求平方根的方法：二分法\n",
    "def sqrt_func(x, small):#参数：X是要输入做平方根的，small是精度\n",
    "    #check input\n",
    "    assert x>=0,\"二分法出错在\"+str(x) #避免后续问题，直接在前面要求\n",
    "    assert small>0, str(small)\n",
    "    \n",
    "    #init value\n",
    "    loops = 1\n",
    "    low = 0.0\n",
    "    high = max(x,1)#应对high值小于1的\n",
    "    while True and loops<=100:\n",
    "        guess = (low+high)/2\n",
    "        #2fen\n",
    "        if abs(guess**2-x)<small:\n",
    "            break\n",
    "        elif guess**2 < x:\n",
    "            low = guess\n",
    "        else:\n",
    "            high = guess\n",
    "                    \n",
    "        #print low,high,guess\n",
    "        loops+=1        \n",
    "    return guess,loops"
   ]
  },
  {
   "cell_type": "markdown",
   "metadata": {},
   "source": [
    "* assert语法：\n",
    "    </br>\n",
    "    \n",
    "assert expression [, arguments] \n",
    "</br>\n",
    "\n",
    "assert 表达式 [, 参数]"
   ]
  },
  {
   "cell_type": "markdown",
   "metadata": {},
   "source": [
    "### 牛顿法求平方根\n",
    "**思想：**[求牛顿开方法的算法及其原理](https://www.guokr.com/question/461510/)"
   ]
  },
  {
   "cell_type": "code",
   "execution_count": 9,
   "metadata": {},
   "outputs": [],
   "source": [
    "#一个求平方根的方法：牛顿法\n",
    "def sqrt_nd(x,small):\n",
    "    #check input\n",
    "    assert x>=0,\"牛顿法出错在\"+str(x) \n",
    "    assert small>0, str(small)\n",
    "    \n",
    "    #init value\n",
    "    loops = 1\n",
    "    low = 0.0\n",
    "    high = max(x,1)\n",
    "    guess = (low+high)/2\n",
    "    while abs(guess**2-x)>small and loops<=100:\n",
    "        guess = guess - (guess**2-x)/2/guess\n",
    "        loops+=1\n",
    "    return guess,loops"
   ]
  },
  {
   "cell_type": "code",
   "execution_count": 11,
   "metadata": {},
   "outputs": [
    {
     "name": "stdout",
     "output_type": "stream",
     "text": [
      "二分法结果:\n",
      "29 次迭代的结果是 3.162278\n",
      "30 次迭代的结果是 4.795832\n",
      "30 次迭代的结果是 5.000000\n",
      "12 次迭代的结果是 0.000244\n",
      "24 次迭代的结果是 1.414214\n",
      "1 次迭代的结果是 0.500000\n",
      "22 次迭代的结果是 0.707107\n",
      "63 次迭代的结果是 11111.111061\n",
      "1 次迭代的结果是 2.000000\n",
      "\n",
      "牛顿法结果:\n",
      "5 次迭代的结果是 3.162278\n",
      "6 次迭代的结果是 4.795832\n",
      "6 次迭代的结果是 5.000000\n",
      "12 次迭代的结果是 0.000244\n",
      "5 次迭代的结果是 1.414214\n",
      "1 次迭代的结果是 0.500000\n",
      "5 次迭代的结果是 0.707107\n",
      "18 次迭代的结果是 11111.111061\n",
      "1 次迭代的结果是 2.000000\n",
      "Pass\n"
     ]
    }
   ],
   "source": [
    "import math\n",
    "small_value = 0.0000001\n",
    "test_data = [10.0, 23, 25, 0, 2, 0.25, 0.5, 123456789,4]\n",
    "print (\"二分法结果:\")\n",
    "for x in test_data:\n",
    "    y,loops=sqrt_func(x,small_value)\n",
    "    assert abs(y**2-x)<small_value\n",
    "    print (\"%d 次迭代的结果是 %f\"%(loops,y))\n",
    "\n",
    "\n",
    "print (u\"\\n牛顿法结果:\")        \n",
    "for x in test_data:\n",
    "    y,loops=sqrt_nd(x,small_value)\n",
    "    assert abs(y**2-x)<small_value\n",
    "    print (\"%d 次迭代的结果是 %f\"%(loops,y) )       \n",
    "print (\"Pass\")"
   ]
  },
  {
   "cell_type": "code",
   "execution_count": 14,
   "metadata": {},
   "outputs": [],
   "source": [
    "# 1. 两段程序哪个快些（又是这个程序）\n",
    "##################################\n",
    "import time\n",
    "\n",
    "def list_comp():\n",
    "    return [(x,y) for x in range(100) for y in range(100) if x*y > 25]#列表解析\n",
    "    \n",
    "def for_loop():#循环\n",
    "    a=[]\n",
    "    for x in range(0,100):\n",
    "        for y in range(0,100):\n",
    "            if x*y>25:\n",
    "                a.append((x,y)) \n",
    "    return a"
   ]
  },
  {
   "cell_type": "code",
   "execution_count": 19,
   "metadata": {},
   "outputs": [],
   "source": [
    "def test_time(f,run_loops):\n",
    "    best_time = 1000\n",
    "    avg_time = 0.0\n",
    "    worse_time = 0.0\n",
    "\n",
    "    for num in range(run_loops):\n",
    "        start_clock = time.clock()\n",
    "        a=f()   \n",
    "        end_clock = time.clock()\n",
    "        avg_time += end_clock-start_clock\n",
    "        if (end_clock-start_clock)<best_time:\n",
    "            best_time = end_clock-start_clock\n",
    "        if (end_clock-start_clock)>worse_time:\n",
    "            worse_time = end_clock-start_clock\n",
    "\n",
    "    print (f.__name__,\"results: \")\n",
    "    print (run_loops,u\"次的最好运行时间为\",best_time,'s')\n",
    "    print (run_loops,u\"次的平均运行时间为\",avg_time/run_loops,'s')\n",
    "    print (run_loops,u\"次的最坏运行时间为\",worse_time,'s')"
   ]
  },
  {
   "cell_type": "code",
   "execution_count": 20,
   "metadata": {},
   "outputs": [
    {
     "name": "stdout",
     "output_type": "stream",
     "text": [
      "list_comp results: \n",
      "1000 次的最好运行时间为 0.0016985692447804013 s\n",
      "1000 次的平均运行时间为 0.002527432834101802 s\n",
      "1000 次的最坏运行时间为 0.01844022421798286 s\n",
      "\n",
      "\n",
      "for_loop results: \n",
      "1000 次的最好运行时间为 0.0025977447060228087 s\n",
      "1000 次的平均运行时间为 0.0029126129172228304 s\n",
      "1000 次的最坏运行时间为 0.007202526586112867 s\n"
     ]
    }
   ],
   "source": [
    "test_time(list_comp,1000)\n",
    "print('\\n')\n",
    "test_time(for_loop,1000)"
   ]
  },
  {
   "cell_type": "markdown",
   "metadata": {},
   "source": [
    "## 2.高级函数"
   ]
  },
  {
   "cell_type": "markdown",
   "metadata": {},
   "source": [
    "* map,reduce,filter,sorted,lambda"
   ]
  },
  {
   "cell_type": "markdown",
   "metadata": {},
   "source": [
    "#### ①map\n",
    "* map()函数接收两个参数，一个是函数，一个是Iterable，map将传入的函数依次作用到序列的每个元素，并把结果作为新的Iterator返回。\n",
    "* map()传入的第一个参数是f，即函数对象本身。由于结果r是一个Iterator，Iterator是惰性序列，因此通过list()函数让它把整个序列都计算出来并返回一个list。"
   ]
  },
  {
   "cell_type": "code",
   "execution_count": 29,
   "metadata": {},
   "outputs": [
    {
     "name": "stdout",
     "output_type": "stream",
     "text": [
      "[58, 21, 65, 57, 27, 0, 56, 3, 32, 89]\n",
      "[8, -29, 15, 7, -23, -50, 6, -47, -18, 39]\n"
     ]
    }
   ],
   "source": [
    "l = [random.randint(0,100) for i in range(10)]\n",
    "\n",
    "def sub50(a):\n",
    "    return a-50\n",
    "\n",
    "print (l)\n",
    "r = list(map(sub50,l))\n",
    "print (r)"
   ]
  },
  {
   "cell_type": "markdown",
   "metadata": {},
   "source": [
    "#### ②reduce\n",
    "* reduce把一个函数作用在一个序列[x1, x2, x3, ...]上，这个函数必须接收两个参数，reduce把结果继续和序列的下一个元素做累积计算\n",
    "\n",
    "        reduce(f, [x1, x2, x3, x4]) = f(f(f(x1, x2), x3), x4)\n",
    "* 注：reduce函数在python3的内建函数移除了，放入了functools模块"
   ]
  },
  {
   "cell_type": "code",
   "execution_count": 45,
   "metadata": {},
   "outputs": [
    {
     "name": "stdout",
     "output_type": "stream",
     "text": [
      "sum:  4950\n",
      "reduce f_add 4950\n",
      "reduce f_mul 120\n"
     ]
    }
   ],
   "source": [
    "from functools import reduce\n",
    "import math\n",
    "\n",
    "print ('sum: ',sum(range(1,100)))\n",
    "def f_add(a,b):\n",
    "    return a+b\n",
    "def f_mul(a,b):\n",
    "    return a*b\n",
    "\n",
    "print('reduce',f_add.__name__, reduce(f_add,range(1,100)))\n",
    "print('reduce',f_mul.__name__, reduce(f_mul,range(1,6)))"
   ]
  },
  {
   "cell_type": "markdown",
   "metadata": {},
   "source": [
    "#### ③ filter\n",
    "* filter()也接收一个函数和一个序列。和map()不同的是，filter()把传入的函数依次作用于每个元素，然后根据返回值是True还是False决定保留还是丢弃该元素。"
   ]
  },
  {
   "cell_type": "code",
   "execution_count": 37,
   "metadata": {},
   "outputs": [
    {
     "name": "stdout",
     "output_type": "stream",
     "text": [
      "['i', 'l', 'i', 'k', 'e', 'p', 'y', 't', 'h', 'o', 'n']\n"
     ]
    }
   ],
   "source": [
    "import random\n",
    "s = \"@431$%$314&6i7(431)^&^%2l#%^i6861642k765e&$%65%^$^#$p%^&*%66757y%*^&%th%*&^%&^$o$&*^n4637\"\n",
    "r = list(filter(str.isalpha,s))\n",
    "print(r)"
   ]
  },
  {
   "cell_type": "code",
   "execution_count": 46,
   "metadata": {},
   "outputs": [
    {
     "name": "stdout",
     "output_type": "stream",
     "text": [
      "[1, 5, 9, 15]\n"
     ]
    }
   ],
   "source": [
    "def is_odd(n):\n",
    "    return n % 2 == 1\n",
    "test_data = [1, 2, 4, 5, 6, 9, 10, 15]\n",
    "r = list(filter(is_odd,test_data))\n",
    "print(r)"
   ]
  },
  {
   "cell_type": "markdown",
   "metadata": {},
   "source": [
    "#### ④sorted\n",
    "* sorted()函数就可以对list进行排序:    sorted([36, 5, -12, 9, -21])=[-21, -12, 5, 9, 36]\n",
    "* sorted()函数也是一个高阶函数，它还可以接收一个key函数来实现自定义的排序，例如按绝对值大小排序:sorted([36, 5, -12, 9, -21], key=abs)\n",
    "=[5, 9, -12, -21, 36]\n",
    "* key指定的函数将作用于list的每一个元素上，并根据key函数返回的结果进行排序。\n",
    "\n",
    "[python sorted()用法](http://www.jb51.net/article/57678.htm)"
   ]
  },
  {
   "cell_type": "code",
   "execution_count": 55,
   "metadata": {},
   "outputs": [],
   "source": [
    "?sorted()#一个问号加函数，可反馈帮助文档"
   ]
  },
  {
   "cell_type": "code",
   "execution_count": 49,
   "metadata": {},
   "outputs": [
    {
     "data": {
      "text/plain": [
       "['Credit', 'Zoo', 'about', 'bob']"
      ]
     },
     "execution_count": 49,
     "metadata": {},
     "output_type": "execute_result"
    }
   ],
   "source": [
    "sorted(['bob', 'about', 'Zoo', 'Credit'])"
   ]
  },
  {
   "cell_type": "code",
   "execution_count": 50,
   "metadata": {},
   "outputs": [
    {
     "data": {
      "text/plain": [
       "['about', 'bob', 'Credit', 'Zoo']"
      ]
     },
     "execution_count": 50,
     "metadata": {},
     "output_type": "execute_result"
    }
   ],
   "source": [
    "sorted(['bob', 'about', 'Zoo', 'Credit'], key=str.lower)"
   ]
  },
  {
   "cell_type": "code",
   "execution_count": 51,
   "metadata": {},
   "outputs": [
    {
     "data": {
      "text/plain": [
       "['Zoo', 'Credit', 'bob', 'about']"
      ]
     },
     "execution_count": 51,
     "metadata": {},
     "output_type": "execute_result"
    }
   ],
   "source": [
    "sorted(['bob', 'about', 'Zoo', 'Credit'], key=str.lower, reverse=True)"
   ]
  },
  {
   "cell_type": "markdown",
   "metadata": {},
   "source": [
    "#### ⑤lambda\n",
    "* 通常是在需要一个函数，但是又不想费神去命名一个函数的场合下使用，也就是指匿名函数。"
   ]
  },
  {
   "cell_type": "code",
   "execution_count": 59,
   "metadata": {},
   "outputs": [
    {
     "data": {
      "text/plain": [
       "36"
      ]
     },
     "execution_count": 59,
     "metadata": {},
     "output_type": "execute_result"
    }
   ],
   "source": [
    "pow2 = lambda x : x**2\n",
    "pow2(6)"
   ]
  },
  {
   "cell_type": "code",
   "execution_count": 74,
   "metadata": {},
   "outputs": [
    {
     "name": "stdout",
     "output_type": "stream",
     "text": [
      "lambda: [1, 3, 5, 7, 9, 11, 13, 15, 17, 19, 21, 23, 25, 27, 29, 31, 33, 35, 37, 39, 41, 43, 45, 47, 49, 51, 53, 55, 57, 59, 61, 63, 65, 67, 69, 71, 73, 75, 77, 79, 81, 83, 85, 87, 89, 91, 93, 95, 97, 99]\n",
      "列表解析： [1, 3, 5, 7, 9, 11, 13, 15, 17, 19, 21, 23, 25, 27, 29, 31, 33, 35, 37, 39, 41, 43, 45, 47, 49, 51, 53, 55, 57, 59, 61, 63, 65, 67, 69, 71, 73, 75, 77, 79, 81, 83, 85, 87, 89, 91, 93, 95, 97, 99]\n"
     ]
    }
   ],
   "source": [
    "#选出奇数\n",
    "list_odd = list(filter(lambda x: x % 2 != 0, range(100)))\n",
    "print('lambda:',list_odd)\n",
    "print('列表解析：',[x for x in range(100) if x % 2 != 0])"
   ]
  },
  {
   "cell_type": "code",
   "execution_count": null,
   "metadata": {},
   "outputs": [],
   "source": [
    "#比较大小\n",
    "cmp= lambda x,y:1 if (x.upper()>y.upper() or (x.upper()==y.upper() and x>y)) else -1"
   ]
  },
  {
   "cell_type": "code",
   "execution_count": 72,
   "metadata": {},
   "outputs": [
    {
     "data": {
      "text/plain": [
       "6"
      ]
     },
     "execution_count": 72,
     "metadata": {},
     "output_type": "execute_result"
    }
   ],
   "source": [
    "#连乘\n",
    "reduce(lambda x,y: x*y, range(1,4))"
   ]
  },
  {
   "cell_type": "markdown",
   "metadata": {},
   "source": [
    "## 3.递归\n",
    "* 在函数内部，可以调用其他函数。如果一个函数在内部调用自身本身，这个函数就是递归函数。"
   ]
  },
  {
   "cell_type": "code",
   "execution_count": 75,
   "metadata": {},
   "outputs": [
    {
     "name": "stdout",
     "output_type": "stream",
     "text": [
      "[1, 1, 2, 3, 5, 8, 13, 21, 34, 55, 89]\n",
      "[1, 1, 2, 3, 5, 8, 13, 21, 34, 55, 89]\n"
     ]
    }
   ],
   "source": [
    "#输出一个斐波那契数列\n",
    "def fib(n):\n",
    "    if n<=2:\n",
    "        return 1\n",
    "    else:\n",
    "        return fib(n-1)+fib(n-2)\n",
    "\n",
    "fib1=lambda n:1 if n<=2 else fib1(n-1)+fib1(n-2)\n",
    "\n",
    "print([fib(i) for i in range(1,12)])\n",
    "print([fib1(i) for i in range(1,12)])"
   ]
  },
  {
   "cell_type": "code",
   "execution_count": 76,
   "metadata": {},
   "outputs": [],
   "source": [
    "#递归二分求解开根号\n",
    "def sqrt_func_dg(x,small,low,high):\n",
    "    guess = float(low+high)/2\n",
    "    if abs(guess**2-x)<small:\n",
    "        return guess\n",
    "    elif guess**2<x:\n",
    "        return sqrt_func_dg(x,small,guess,high)\n",
    "    else:\n",
    "        return sqrt_func_dg(x,small,low,guess)"
   ]
  },
  {
   "cell_type": "code",
   "execution_count": 77,
   "metadata": {},
   "outputs": [
    {
     "name": "stdout",
     "output_type": "stream",
     "text": [
      "结果是 3.162270\n",
      "结果是 4.795827\n",
      "结果是 4.999995\n",
      "结果是 0.007812\n",
      "结果是 1.414185\n",
      "结果是 0.500000\n",
      "结果是 0.707153\n",
      "结果是 11111.111061\n",
      "结果是 2.000000\n"
     ]
    }
   ],
   "source": [
    "import math\n",
    "small_value = 0.0001\n",
    "test_data = [10.0, 23, 25, 0, 2, 0.25, 0.5, 123456789,4]\n",
    "for x in test_data:\n",
    "    y=sqrt_func_dg(x,small_value,0,max(x,1))\n",
    "    assert abs(y**2-x)<small_value, u\"二分法出错在\"+str(x)\n",
    "    print(\"结果是 %f\"%y)"
   ]
  },
  {
   "cell_type": "code",
   "execution_count": 78,
   "metadata": {},
   "outputs": [
    {
     "data": {
      "text/plain": [
       "'倒颠生众'"
      ]
     },
     "execution_count": 78,
     "metadata": {},
     "output_type": "execute_result"
    }
   ],
   "source": [
    "def reverse_s(s):\n",
    "    if len(s)<=1:\n",
    "        return s\n",
    "    else:\n",
    "        return reverse_s(s[1:])+s[0]\n",
    "str_t='众生颠倒'\n",
    "reverse_s(str_t)"
   ]
  },
  {
   "cell_type": "markdown",
   "metadata": {},
   "source": [
    "## 4.生成器与迭代器\n",
    "### 生成器\n",
    "* 通过列表生成式，我们可以直接创建一个列表。但是，受到内存限制，列表容量肯定是有限的。如果列表元素可以按照某种算法推算出来，那我们是否可以在循环的过程中不断推算出后续的元素呢？这样就不必创建完整的list，从而节省大量的空间。在Python中，这种一边循环一边计算的机制，称为生成器：generator。"
   ]
  },
  {
   "cell_type": "code",
   "execution_count": 80,
   "metadata": {},
   "outputs": [
    {
     "name": "stdout",
     "output_type": "stream",
     "text": [
      "<class 'list'> <class 'generator'>\n"
     ]
    }
   ],
   "source": [
    "L = [x * x for x in range(10)]\n",
    "g = (x * x for x in range(10))\n",
    "print(type(L),type(g))"
   ]
  },
  {
   "cell_type": "code",
   "execution_count": 111,
   "metadata": {},
   "outputs": [
    {
     "name": "stdout",
     "output_type": "stream",
     "text": [
      "[1, 1, 2, 3, 5, 8, 13, 21, 34, 55]\n",
      "89\n",
      "144\n",
      "233\n",
      "377\n",
      "610\n",
      "987\n",
      "1597\n",
      "2584\n",
      "4181\n",
      "6765\n"
     ]
    }
   ],
   "source": [
    "def fib():\n",
    "    n, a, b = 0, 0, 1\n",
    "    while True:\n",
    "        yield b\n",
    "        a, b = b, a + b\n",
    "        n = n + 1\n",
    "    return 'done'\n",
    "A=fib()#因为考逻辑推算，要多少有多少，且不需要直接生成\n",
    "iter_result= [next(A) for i in range(10)]\n",
    "print(iter_result)\n",
    "\n",
    "for i in range(10):#继续前面，继续生成\n",
    "    print(next(A))"
   ]
  },
  {
   "cell_type": "markdown",
   "metadata": {},
   "source": [
    "* 我们已经知道，可以直接作用于for循环的数据类型有以下几种：一类是集合数据类型，如list、tuple、dict、set、str等；一类是generator，包括生成器和带yield的generator function。这些可以直接作用于for循环的对象统称为可迭代对象：Iterable。可以使用isinstance()判断一个对象是否是Iterable对象."
   ]
  },
  {
   "cell_type": "code",
   "execution_count": 105,
   "metadata": {},
   "outputs": [
    {
     "data": {
      "text/plain": [
       "True"
      ]
     },
     "execution_count": 105,
     "metadata": {},
     "output_type": "execute_result"
    }
   ],
   "source": [
    "from collections import Iterable,Iterator\n",
    "isinstance(fib(), Iterable)"
   ]
  },
  {
   "cell_type": "markdown",
   "metadata": {},
   "source": [
    "#### 生成器\n",
    "* 生成器都是Iterator对象，但list、dict、str虽然是Iterable，却不是Iterator。\n",
    "把list、dict、str等Iterable变成Iterator可以使用iter()函数："
   ]
  },
  {
   "cell_type": "code",
   "execution_count": 106,
   "metadata": {},
   "outputs": [
    {
     "name": "stdout",
     "output_type": "stream",
     "text": [
      "False\n",
      "True\n"
     ]
    }
   ],
   "source": [
    "print(isinstance([], Iterator))\n",
    "print(isinstance(iter([]), Iterator))"
   ]
  },
  {
   "cell_type": "code",
   "execution_count": 108,
   "metadata": {},
   "outputs": [
    {
     "name": "stdout",
     "output_type": "stream",
     "text": [
      "1\n",
      "2\n",
      "3\n",
      "4\n",
      "5\n"
     ]
    }
   ],
   "source": [
    "for x in [1, 2, 3, 4, 5]:\n",
    "    print(x)"
   ]
  },
  {
   "cell_type": "code",
   "execution_count": 109,
   "metadata": {},
   "outputs": [
    {
     "name": "stdout",
     "output_type": "stream",
     "text": [
      "1\n",
      "2\n",
      "3\n",
      "4\n",
      "5\n"
     ]
    }
   ],
   "source": [
    "# 首先获得Iterator对象:\n",
    "it = iter([1, 2, 3, 4, 5])\n",
    "# 循环:\n",
    "while True:\n",
    "    try:\n",
    "        # 获得下一个值:\n",
    "        x = next(it)\n",
    "        print(x)\n",
    "    except StopIteration:\n",
    "        # 遇到StopIteration就退出循环\n",
    "        break"
   ]
  },
  {
   "cell_type": "markdown",
   "metadata": {},
   "source": [
    "## 5.闭包与装饰器"
   ]
  },
  {
   "cell_type": "markdown",
   "metadata": {},
   "source": [
    "#### 闭包\n",
    "* 闭包（Closure）是引用了自由变量的函数。这个被引用的自由变量将和这个函数一同存在，即使已经离开了创造它的环境也不例外。所以，闭包是由函数和与其相关的引用环境组合而成的实体。    \n",
    "<br></br> \n",
    "* Python中怎么创建闭包:\n",
    "    1. 闭包函数必须有内嵌函数\n",
    "    1. 内嵌函数需要引用该嵌套函数上一级namespace中的变量\n",
    "    1. 闭包函数必须返回内嵌函数"
   ]
  },
  {
   "cell_type": "code",
   "execution_count": 114,
   "metadata": {},
   "outputs": [
    {
     "name": "stdout",
     "output_type": "stream",
     "text": [
      "[<function pow_x.<locals>.echo at 0x000001D5A4320400>, <function pow_x.<locals>.echo at 0x000001D5A4320BF8>, <function pow_x.<locals>.echo at 0x000001D5A4320950>, <function pow_x.<locals>.echo at 0x000001D5A4320510>, <function pow_x.<locals>.echo at 0x000001D5A4320598>]\n",
      "1\n",
      "2\n",
      "4\n",
      "8\n",
      "16\n"
     ]
    }
   ],
   "source": [
    "# 举个例子\n",
    "def pow_x(x):\n",
    "    def echo(value):\n",
    "        return value**x\n",
    "    return echo\n",
    "pow_list=[pow_x(x) for x in range(5)]\n",
    "print(pow_list)\n",
    "for p in pow_list:\n",
    "    print(p(2))"
   ]
  },
  {
   "cell_type": "markdown",
   "metadata": {},
   "source": [
    "#### 装饰器\n",
    "* python装饰器本质上就是一个函数，它可以让其他函数在不需要做任何代码变动的前提下增加额外的功能，装饰器的返回值也是一个函数对象。\n",
    "\n",
    "     实质： 是一个函数\n",
    "\n",
    "    参数：是你要装饰的函数名（并非函数调用）\n",
    "\n",
    "    返回：是装饰完的函数名（也非函数调用）\n",
    "\n",
    "    作用：为已经存在的对象添加额外的功能\n",
    "\n",
    "    特点：不需要对对象做任何的代码上的变动\n",
    "\n",
    "\n",
    "\n",
    "\n",
    "* 装饰器最大的作用就是对于我们已经写好的程序，我们可以抽离出一些雷同的代码组建多个特定功能的装饰器，这样我们就可以针对不同的需求去使用特定的装饰器，这时因为源码去除了大量泛化的内容而使得源码具有更加清晰的逻辑。\n",
    "* [python装饰器](https://www.cnblogs.com/lianyingteng/p/7743876.html)\n",
    "* [廖雪峰：装饰器](https://www.liaoxuefeng.com/wiki/0014316089557264a6b348958f449949df42a6d3a2e542c000/0014318435599930270c0381a3b44db991cd6d858064ac0000)"
   ]
  },
  {
   "cell_type": "code",
   "execution_count": 126,
   "metadata": {},
   "outputs": [],
   "source": [
    "#举个例子\n",
    "import datetime\n",
    "def log(func):\n",
    "    def wrapper(*args, **kw):\n",
    "        print('call %s():' % func.__name__)\n",
    "        return func(*args, **kw)\n",
    "    return wrapper"
   ]
  },
  {
   "cell_type": "code",
   "execution_count": 130,
   "metadata": {},
   "outputs": [],
   "source": [
    "@log\n",
    "def now():\n",
    "    print(datetime.datetime.now())"
   ]
  },
  {
   "cell_type": "markdown",
   "metadata": {},
   "source": [
    "把@log放到now()函数的定义处，相当于执行了语句：\n",
    "\n",
    "now = log(now)"
   ]
  },
  {
   "cell_type": "code",
   "execution_count": 131,
   "metadata": {},
   "outputs": [
    {
     "name": "stdout",
     "output_type": "stream",
     "text": [
      "call now():\n",
      "2018-05-14 14:25:17.366636\n"
     ]
    }
   ],
   "source": [
    "now()"
   ]
  },
  {
   "cell_type": "code",
   "execution_count": 132,
   "metadata": {},
   "outputs": [
    {
     "name": "stdout",
     "output_type": "stream",
     "text": [
      "call now():\n",
      "2018-05-14 14:25:18.423604\n"
     ]
    }
   ],
   "source": [
    "now()"
   ]
  }
 ],
 "metadata": {
  "kernelspec": {
   "display_name": "Python 3",
   "language": "python",
   "name": "python3"
  },
  "language_info": {
   "codemirror_mode": {
    "name": "ipython",
    "version": 3
   },
   "file_extension": ".py",
   "mimetype": "text/x-python",
   "name": "python",
   "nbconvert_exporter": "python",
   "pygments_lexer": "ipython3",
   "version": "3.6.3"
  }
 },
 "nbformat": 4,
 "nbformat_minor": 2
}
